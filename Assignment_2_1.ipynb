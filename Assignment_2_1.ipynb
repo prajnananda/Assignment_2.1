{
 "cells": [
  {
   "cell_type": "code",
   "execution_count": 68,
   "metadata": {},
   "outputs": [
    {
     "name": "stdout",
     "output_type": "stream",
     "text": [
      "hi\n"
     ]
    }
   ],
   "source": [
    "print(\"hi\")"
   ]
  },
  {
   "cell_type": "code",
   "execution_count": 40,
   "metadata": {},
   "outputs": [
    {
     "name": "stdout",
     "output_type": "stream",
     "text": [
      "15\n"
     ]
    }
   ],
   "source": [
    "# Assignment 2.1\n",
    "#Task 1.1\n",
    "# this function implement the reduce function\n",
    "# multipy each element of list and give the multiplication of all numbers\n",
    "\n",
    "# add each element of list and give the sum of all numbers\n",
    "\n",
    "def add(lis):\n",
    "\n",
    "    out = 0\n",
    "\n",
    "    for x in lis[:]:\n",
    "\n",
    "        out = out + x\n",
    "\n",
    "    return out\n",
    "\n",
    "#myreduce function which takes function and list as parameter\n",
    "\n",
    "def myreduce(func, lis):               \n",
    "\n",
    "    return(func(lis))\n",
    "\n",
    "my_list = [1,2,3,4,5]\n",
    "\n",
    "print(myreduce(add, my_list)) \n"
   ]
  },
  {
   "cell_type": "code",
   "execution_count": 41,
   "metadata": {},
   "outputs": [
    {
     "name": "stdout",
     "output_type": "stream",
     "text": [
      "[2, 4]\n",
      "[1, 3, 5]\n"
     ]
    }
   ],
   "source": [
    "# Assignment 2.1\n",
    "# Task 1.2\n",
    "# write a Python program to implement your own myfilter() function which works exactly like\n",
    "## Python's built-in function filter()\n",
    "def even_check(lst):\n",
    "    lst_out = []\n",
    "    for x in lst[:]:\n",
    "        if x%2 == 0:            \n",
    "            lst_out.append(x)\n",
    "    return(lst_out)     \n",
    "\n",
    "# check out for odd numbers\n",
    "def odd_check(lst):\n",
    "    lst_out = []\n",
    "    for x in lst[:]:\n",
    "        if x%2 != 0:            \n",
    "            lst_out.append(x)\n",
    "    return(lst_out) \n",
    "\n",
    "# myfilter function    \n",
    "def myfilter(func, lst):              \n",
    "    return(func(lst))\n",
    "\n",
    "input_lst = [1,2,3,4,5]\n",
    "print(myfilter(even_check, input_lst))\n",
    "print(myfilter(odd_check, input_lst))"
   ]
  },
  {
   "cell_type": "code",
   "execution_count": 50,
   "metadata": {},
   "outputs": [
    {
     "name": "stdout",
     "output_type": "stream",
     "text": [
      "Acadgild\n"
     ]
    }
   ],
   "source": [
    "##Assignment2.1\n",
    "#Task 1.3: Implement a function longestWord() that takes a list of words and returns the longest one.\n",
    "\n",
    "from functools import reduce\n",
    "\n",
    "def longestword(input_list):\n",
    "    word = reduce(lambda x,y: x if(len(x)> len(y)) else y, input_list)\n",
    "    print(word)\n",
    "\n",
    "\n",
    "\n",
    "mylist1 = [\"Acadgild\",\"is\",\"data\" ,\"driven\"]\n",
    "\n",
    "longestword(mylist1)"
   ]
  },
  {
   "cell_type": "code",
   "execution_count": 52,
   "metadata": {},
   "outputs": [
    {
     "name": "stdout",
     "output_type": "stream",
     "text": [
      "Enter the length of 1st side: 4\n",
      "Enter the length of 2nd side: 6\n",
      "Enter the length of 3rd side: 7\n",
      "Area of the triangle is  11.976539567003485\n"
     ]
    }
   ],
   "source": [
    "##Assignment2.1\n",
    "\n",
    "#Task 2.1.1: Write a Python Program(with class concepts) to find the area of the triangle using the below formula.\n",
    "#area = (s*(s-a)*(s-b)*(s-c)) ** 0.5\n",
    "#Function to take the length of the sides of triangle from user should be defined in the parent class and function \n",
    "#to calculate the area should be defined in subclass.\n",
    "\n",
    "class AreaOfTraingle:\n",
    "     def __init__(self,a=0,b=0,c=0):\n",
    "            self.a = a \n",
    "            self.b = b\n",
    "            self.c = c\n",
    "     def set_sides(self):\n",
    "            self.a = int(input(\"Enter the length of 1st side: \"))\n",
    "            self.b = int(input(\"Enter the length of 2nd side: \"))\n",
    "            self.c = int(input(\"Enter the length of 3rd side: \"))\n",
    "\n",
    "class AreaOfTriangeSubclass(AreaOfTraingle):\n",
    "\n",
    "    def area(self):\n",
    "        self.s = (self.a+self.b+self.c)/2\n",
    "        area = ((self.s-self.a)*(self.s-self.b)*(self.s-self.c) *self.s)**0.5\n",
    "        print(\"Area of the triangle is \",area)\n",
    "\n",
    "c = AreaOfTriangeSubclass()\n",
    "c.set_sides()\n",
    "c.area()"
   ]
  },
  {
   "cell_type": "code",
   "execution_count": 54,
   "metadata": {},
   "outputs": [
    {
     "name": "stdout",
     "output_type": "stream",
     "text": [
      "['training', 'acadgild', 'best']\n"
     ]
    }
   ],
   "source": [
    "##Assignment2.1\n",
    "#Task 2.1.2: Write a function filter_long_words() that takes a list of words and an integer n and returns the list of words\n",
    "#that are longer than n.\n",
    "list_long_words=[]\n",
    "\n",
    "def filter_long_words(mylist,num):\n",
    "    return [word for word in mylist if len(word) > num]\n",
    "      \n",
    "list_of_words={\"acadgild\",\"is \",\"best\",\"training\"}\n",
    "list_long_words = filter_long_words(list_of_words,3)\n",
    "print (list_long_words)"
   ]
  },
  {
   "cell_type": "code",
   "execution_count": 83,
   "metadata": {},
   "outputs": [
    {
     "name": "stdout",
     "output_type": "stream",
     "text": [
      "['A', 'C', 'A', 'D', 'G', 'I', 'L', 'D']\n",
      "['x', 'xx', 'xxx', 'xxxx', 'y', 'yy', 'yyy', 'yyyy', 'z', 'zz', 'zzz', 'zzzz']\n",
      "['x', 'y', 'z', 'xx', 'yy', 'zz', 'xxx', 'yyy', 'zzz', 'xxxx', 'yyyy', 'zzzz']\n",
      "[[2], [3], [4], [3], [4], [5], [4], [5], [6]]\n",
      "[[2, 3, 4, 5], [3, 4, 5, 6], [4, 5, 6, 7], [5, 6, 7, 8]]\n",
      "[(1, 1), (2, 1), (3, 1), (1, 2), (2, 2), (3, 2), (1, 3), (2, 3), (3, 3)]\n"
     ]
    }
   ],
   "source": [
    "##Assignment2.1\n",
    "\n",
    "#Task 1.2 Implement List comprehensions to produce the following lists.\n",
    "#Write List comprehensions to produce the following Lists\n",
    "#['A', 'C', 'A', 'D', 'G', 'I', ’L’, ‘ D’]\n",
    "#['x', 'xx', 'xxx', 'xxxx', 'y', 'yy', 'yyy', 'yyyy', 'z', 'zz', 'zzz', 'zzzz']\n",
    "#['x', 'y', 'z', 'xx', 'yy', 'zz', 'xx', 'yy', 'zz', 'xxxx', 'yyyy', 'zzzz']\n",
    "#[[2], [3], [4], [3], [4], [5], [4], [5], [6]]\n",
    "# [[2, 3, 4, 5], [3, 4, 5, 6], [4, 5, 6, 7], [5, 6, 7, 8]]\n",
    "# [(1, 1), (2, 1), (3, 1), (1, 2), (2, 2), (3, 2), (1, 3), (2, 3), (3, 3)]\n",
    "# 1.\n",
    "str =\"ACADGILD\"\n",
    "li = [ x for x in str] \n",
    "print(li)\n",
    "# 2.\n",
    "li = [x*i for x in \"xyz\" for i in range(1,5)]\n",
    "print(li)\n",
    "# 3.\n",
    "li = [x*i for i in range(1,5) for x in \"xyz\"]\n",
    "print(li)\n",
    "# 4.\n",
    "li = [ [y] for x in range(3) for y in range(x+2,x+5)]\n",
    "print(li)\n",
    "# 5.\n",
    "lo = [2,3,4,5,6,7,8]\n",
    "li = [ lo[x:x+4] for x in range(4)]\n",
    "print (li)\n",
    "#6.\n",
    "li=[(y,x) for x in range(1,4) for y in range(1,4)]\n",
    "print(li)"
   ]
  },
  {
   "cell_type": "code",
   "execution_count": 80,
   "metadata": {},
   "outputs": [
    {
     "name": "stdout",
     "output_type": "stream",
     "text": [
      "[8, 2, 4, 6]\n"
     ]
    }
   ],
   "source": [
    "#Assignment2.1\n",
    "\n",
    "#Task 2.2.1: Write a Python program using function concept that maps list of words into a list of integers\n",
    "# representing the lengths of the corresponding words.\n",
    "# Hint: ​If a list [ ab,cde,erty] is passed on to the python function output should come as [2,3,4]\n",
    "# Here 2,3 and 4 are the lengths of the words in the list.\n",
    "\n",
    "def word_to_integer(mylist):\n",
    "    listto=[]\n",
    "    for word in mylist:\n",
    "        listto.append(len(word))\n",
    "    print(listto)\n",
    "         \n",
    "    \n",
    "word_to_number_map = [\"acadgild\",\"is\",\"data\",\"driven\"]\n",
    "word_to_integer(word_to_number_map)\n",
    " "
   ]
  },
  {
   "cell_type": "code",
   "execution_count": 82,
   "metadata": {},
   "outputs": [
    {
     "name": "stdout",
     "output_type": "stream",
     "text": [
      "False\n",
      "True\n",
      "False\n"
     ]
    }
   ],
   "source": [
    "##Assignment2.1\n",
    "\n",
    "#Task 2.2.2: Write a Python function which takes a character (i.e. a string of length 1) and returns True if it is\n",
    "# a vowel, False otherwise.\n",
    "\n",
    "# Function to validate whether it is vowel or not\n",
    "def is_vowel(char):\n",
    "    vowels = ('a', 'e', 'i', 'o', 'u')\n",
    "    if char not in vowels:\n",
    "        return False;\n",
    "    return True\n",
    "\n",
    "print(is_vowel('k'))\n",
    "print(is_vowel('a'))\n",
    "print(is_vowel('b'))"
   ]
  },
  {
   "cell_type": "code",
   "execution_count": null,
   "metadata": {},
   "outputs": [],
   "source": []
  }
 ],
 "metadata": {
  "kernelspec": {
   "display_name": "Python 3",
   "language": "python",
   "name": "python3"
  },
  "language_info": {
   "codemirror_mode": {
    "name": "ipython",
    "version": 3
   },
   "file_extension": ".py",
   "mimetype": "text/x-python",
   "name": "python",
   "nbconvert_exporter": "python",
   "pygments_lexer": "ipython3",
   "version": "3.6.4"
  }
 },
 "nbformat": 4,
 "nbformat_minor": 2
}
